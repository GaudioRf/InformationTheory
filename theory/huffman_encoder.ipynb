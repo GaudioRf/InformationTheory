{
 "cells": [
  {
   "cell_type": "code",
   "execution_count": 17,
   "metadata": {},
   "outputs": [],
   "source": [
    "import numpy as np\n",
    "import pandas as pd"
   ]
  },
  {
   "cell_type": "markdown",
   "metadata": {},
   "source": [
    "# Huffman encoder implementation"
   ]
  },
  {
   "cell_type": "code",
   "execution_count": 18,
   "metadata": {},
   "outputs": [],
   "source": [
    "# this block of code produces the huffman code (a dictionary of symbols and codewords)\n",
    "\n",
    "class Node:\n",
    "    def __init__(self, value):\n",
    "\n",
    "        self.value = value\n",
    "        self.left = None\n",
    "        self.right = None\n",
    "        \n",
    "\n",
    "def binary_tree(dictionary,verbose):\n",
    "    N = len(dictionary)\n",
    "    alphabet = [i for i in dictionary.keys()]\n",
    "    dictionary_sorted = dict(sorted(dictionary.items(), key=lambda item: item[1], reverse=True)) \n",
    "    leaves = list(dictionary_sorted.items())\n",
    "    child_id=[]                       \n",
    "\n",
    "    if verbose:\n",
    "        print(\"*** binary tree *** \\n\")\n",
    "        print(\"* leaves:\")\n",
    "        print(leaves)\n",
    "        print(\"----------------------------------------------------------------------------\")\n",
    "\n",
    "    for i in range(N-1):\n",
    "        child_sx_id = leaves[-2][0]\n",
    "        child_dx_id = leaves[-1][0]\n",
    "        child_sx_value = leaves[-2][1]\n",
    "        child_dx_value = leaves[-1][1]  \n",
    "\n",
    "        parent_name = f\"P{i}\"\n",
    "        parent_value = child_sx_value + child_dx_value\n",
    "        parent_leaf = [(parent_name, parent_value)]\n",
    "\n",
    "        child_id.append([parent_name, child_sx_id, child_dx_id])\n",
    "\n",
    "        if verbose:\n",
    "            print(\"+ parent leaf:\")\n",
    "            print(parent_leaf, \"<--\", child_sx_id, \"+\", child_dx_id, \"\\n\")\n",
    "\n",
    "        leaves = leaves[:-2] + parent_leaf\n",
    "        leaves = sorted(leaves, key=lambda x: x[1], reverse=True)\n",
    "\n",
    "        if verbose:\n",
    "            if len(leaves) != 1:\n",
    "                print(\"* leaves:\")\n",
    "            else:\n",
    "                print(\"++ root:\")\n",
    "            print(leaves)\n",
    "            print(\"----------------------------------------------------------------------------\")\n",
    "\n",
    "    return alphabet, child_id\n",
    "\n",
    "\n",
    "def build_huffman_tree(parent_child_relations):\n",
    "    nodes = {}\n",
    "    \n",
    "    for relation in parent_child_relations:\n",
    "        parent_val, left_val, right_val = relation\n",
    "        parent_node = nodes.get(parent_val, Node(parent_val))\n",
    "        left_node = nodes.get(left_val, Node(left_val))\n",
    "        right_node = nodes.get(right_val, Node(right_val))\n",
    "        \n",
    "        parent_node.left = left_node\n",
    "        parent_node.right = right_node\n",
    "        \n",
    "        nodes[parent_val] = parent_node\n",
    "        nodes[left_val] = left_node\n",
    "        nodes[right_val] = right_node\n",
    "    \n",
    "    return nodes[parent_val]\n",
    "\n",
    "\n",
    "def generate_huffman_codes(root, code='', codes={}):\n",
    "    if root:\n",
    "        if root.value != \"\":\n",
    "            codes[root.value] = code\n",
    "        generate_huffman_codes(root.left, code + \"0\", codes)\n",
    "        generate_huffman_codes(root.right, code + \"1\", codes)\n",
    "\n",
    "    return codes\n",
    "\n",
    "\n",
    "def huffman_codes(dictionary,verbose=False):\n",
    "    alphabet, child_id = binary_tree(dictionary,verbose=verbose)\n",
    "    huffman_tree = build_huffman_tree(child_id)\n",
    "    huffman_codes = generate_huffman_codes(huffman_tree)\n",
    "    \n",
    "    huffman_codes = {key: value for key, value in huffman_codes.items() if key in alphabet}\n",
    "    huffman_codes = {key: huffman_codes[key] for key in alphabet}\n",
    "\n",
    "    if verbose:\n",
    "        print(\"\\ncodewords:\")\n",
    "        print(huffman_codes)\n",
    "\n",
    "    return huffman_codes    "
   ]
  },
  {
   "cell_type": "code",
   "execution_count": 19,
   "metadata": {},
   "outputs": [],
   "source": [
    "# auxiliary function that evaluetes probabilities of symbols from a strig:\n",
    "\n",
    "def generate_symbol_frequency(input):\n",
    "    if len(input)==1:\n",
    "        text=input[0]\n",
    "    else: text=input    \n",
    "    \n",
    "    symbol_frequency = {}\n",
    "    total_symbols = len(text)\n",
    "\n",
    "    for char in text:\n",
    "        if char in symbol_frequency:\n",
    "            symbol_frequency[char] += 1\n",
    "        else:\n",
    "            symbol_frequency[char] = 1\n",
    "\n",
    "    for char in symbol_frequency:\n",
    "        symbol_frequency[char] /= total_symbols\n",
    "\n",
    "    return symbol_frequency\n",
    "\n",
    "\n",
    "# auxiliary function that given a string and the huffman codewords encodes the string\n",
    "\n",
    "def string_encoder(input, dictionary):\n",
    "    encoded_string=[]\n",
    "\n",
    "    if len(input)==1:\n",
    "        string=input[0]\n",
    "\n",
    "    else:\n",
    "        string=input\n",
    "\n",
    "    for i in string:\n",
    "        for j in dictionary.keys():\n",
    "            if i==j:\n",
    "                encoded_string.append(dictionary[j])\n",
    "\n",
    "    encoded_string=''.join(encoded_string)\n",
    "\n",
    "    return encoded_string"
   ]
  },
  {
   "cell_type": "code",
   "execution_count": 20,
   "metadata": {},
   "outputs": [],
   "source": [
    "# final huffman encoder\n",
    "\n",
    "def huffman_encoder(string, verbose=False):\n",
    "    alphabet=generate_symbol_frequency(string)\n",
    "    codewords=huffman_codes(alphabet)\n",
    "    encoded_string=string_encoder(string,codewords)\n",
    "\n",
    "    if verbose:\n",
    "        print(codewords)\n",
    "\n",
    "    return encoded_string, codewords    "
   ]
  },
  {
   "cell_type": "code",
   "execution_count": 21,
   "metadata": {},
   "outputs": [],
   "source": [
    "# huffman decoder\n",
    "\n",
    "def huffman_decoder(binary_string, codewords):\n",
    "    reverse_codewords = {i: j for j, i in codewords.items()}\n",
    "    decoded_message = ''\n",
    "    current_code = ''\n",
    "\n",
    "    for bit in binary_string:\n",
    "        current_code += bit\n",
    "        if current_code in reverse_codewords:\n",
    "            decoded_message += reverse_codewords[current_code]\n",
    "            current_code = ''  \n",
    "\n",
    "    return decoded_message"
   ]
  },
  {
   "cell_type": "markdown",
   "metadata": {},
   "source": [
    "##  Encoder test:\n",
    "\n",
    "Let's start with a simple dictionary of symbols and frequencies and build up the Huffman codewords from the binary tree."
   ]
  },
  {
   "cell_type": "code",
   "execution_count": 22,
   "metadata": {},
   "outputs": [
    {
     "name": "stdout",
     "output_type": "stream",
     "text": [
      "*** binary tree *** \n",
      "\n",
      "* leaves:\n",
      "[('d', 0.4), ('c', 0.35), ('b', 0.2), ('a', 0.05)]\n",
      "----------------------------------------------------------------------------\n",
      "+ parent leaf:\n",
      "[('P0', 0.25)] <-- b + a \n",
      "\n",
      "* leaves:\n",
      "[('d', 0.4), ('c', 0.35), ('P0', 0.25)]\n",
      "----------------------------------------------------------------------------\n",
      "+ parent leaf:\n",
      "[('P1', 0.6)] <-- c + P0 \n",
      "\n",
      "* leaves:\n",
      "[('P1', 0.6), ('d', 0.4)]\n",
      "----------------------------------------------------------------------------\n",
      "+ parent leaf:\n",
      "[('P2', 1.0)] <-- P1 + d \n",
      "\n",
      "++ root:\n",
      "[('P2', 1.0)]\n",
      "----------------------------------------------------------------------------\n",
      "\n",
      "codewords:\n",
      "{'a': '011', 'b': '010', 'c': '00', 'd': '1'}\n"
     ]
    }
   ],
   "source": [
    "# fist test\n",
    "\n",
    "dict_test={\"a\":0.05,\"b\":0.2,\"c\":0.35,\"d\":0.4}\n",
    "codewords_test=huffman_codes(dict_test,verbose=True)"
   ]
  },
  {
   "cell_type": "code",
   "execution_count": 23,
   "metadata": {},
   "outputs": [
    {
     "name": "stdout",
     "output_type": "stream",
     "text": [
      "  Events  Probabilities\n",
      "0      h            0.9\n",
      "1      t            0.1 \n",
      "\n",
      "  Events  Probabilities\n",
      "0    hhh          0.729\n",
      "1    hht          0.081\n",
      "2    hth          0.081\n",
      "3    thh          0.081\n",
      "4    htt          0.009\n",
      "5    tht          0.009\n",
      "6    tth          0.009\n",
      "7    ttt          0.001 \n",
      "\n",
      "codewords:\n",
      "{'hhh': '0', 'hht': '100', 'hth': '101', 'thh': '110', 'htt': '11100', 'tht': '11101', 'tth': '11110', 'ttt': '11111'}\n"
     ]
    }
   ],
   "source": [
    "# second test:\n",
    "\n",
    "P_h=9/10\n",
    "P_t=1/10\n",
    "\n",
    "df=pd.DataFrame({\"Events\":[\"h\",\"t\"],\"Probabilities\":[P_h,P_t]})\n",
    "print(df,\"\\n\")\n",
    "\n",
    "p_hhh=df[\"Probabilities\"][0]**3\n",
    "p_hht=p_hth=p_thh=df[\"Probabilities\"][0]*df[\"Probabilities\"][0]*df[\"Probabilities\"][1]\n",
    "p_htt=p_tht=p_tth=df[\"Probabilities\"][0]*df[\"Probabilities\"][1]*df[\"Probabilities\"][1]\n",
    "p_ttt=df[\"Probabilities\"][1]*df[\"Probabilities\"][1]*df[\"Probabilities\"][1]\n",
    "\n",
    "df_3=pd.DataFrame({\"Events\":[\"hhh\",\"hht\",\"hth\",\"thh\",\"htt\",\"tht\",\"tth\",\"ttt\"],\"Probabilities\":[p_hhh,p_hht,p_hth,p_thh,p_htt,p_tht,p_tth,p_ttt]})\n",
    "print(df_3,\"\\n\")\n",
    "\n",
    "dict_test_2={}\n",
    "for i,j in zip(df_3[\"Events\"],df_3[\"Probabilities\"]):\n",
    "    dict_test_2[i]=j\n",
    "\n",
    "codewords_test_2=huffman_codes(dict_test_2)\n",
    "print(\"codewords:\")\n",
    "print(codewords_test_2)"
   ]
  },
  {
   "cell_type": "markdown",
   "metadata": {},
   "source": [
    "Now let's start directly from a string and see if the code is able to encode the original string into a binary one."
   ]
  },
  {
   "cell_type": "code",
   "execution_count": 24,
   "metadata": {},
   "outputs": [
    {
     "name": "stdout",
     "output_type": "stream",
     "text": [
      "original string:\n",
      "sadlasdiikkliedscc \n",
      "\n",
      "symbols frequencies:\n",
      "{'s': 0.16666666666666666, 'a': 0.1111111111111111, 'd': 0.16666666666666666, 'l': 0.1111111111111111, 'i': 0.16666666666666666, 'k': 0.1111111111111111, 'e': 0.05555555555555555, 'c': 0.1111111111111111} \n",
      "\n",
      "Huffman codewords:\n",
      "{'s': '11', 'a': '011', 'd': '000', 'l': '100', 'i': '001', 'k': '101', 'e': '0101', 'c': '0100'}\n",
      "\n",
      "encoded string:\n",
      "110110001000111100000100110110110000101010001101000100\n"
     ]
    }
   ],
   "source": [
    "# now let's try to encode a given string directly:\n",
    "\n",
    "print(\"original string:\")\n",
    "message='sadlasdiikkliedscc'\n",
    "print(message,\"\\n\")\n",
    "\n",
    "print(\"symbols frequencies:\")\n",
    "symbl_freq=generate_symbol_frequency(message)\n",
    "print(symbl_freq,\"\\n\")\n",
    "\n",
    "print(\"Huffman codewords:\")\n",
    "encoded_message, __ =huffman_encoder(message,verbose=True)\n",
    "\n",
    "print(\"\\nencoded string:\")\n",
    "print(encoded_message)"
   ]
  },
  {
   "cell_type": "code",
   "execution_count": 25,
   "metadata": {},
   "outputs": [
    {
     "name": "stdout",
     "output_type": "stream",
     "text": [
      "original string:\n",
      "hello world! \n",
      "\n",
      "symbols frequencies:\n",
      "{'h': 0.08333333333333333, 'e': 0.08333333333333333, 'l': 0.25, 'o': 0.16666666666666666, ' ': 0.08333333333333333, 'w': 0.08333333333333333, 'r': 0.08333333333333333, 'd': 0.08333333333333333, '!': 0.08333333333333333} \n",
      "\n",
      "Huffman codewords:\n",
      "{'h': '101', 'e': '1000', 'l': '01', 'o': '11', ' ': '1001', 'w': '0010', 'r': '0011', 'd': '0000', '!': '0001'}\n",
      "\n",
      "encoded string:\n",
      "1011000010111100100101100110100000001\n"
     ]
    }
   ],
   "source": [
    "# second test on a full string:\n",
    "\n",
    "print(\"original string:\")\n",
    "message_2='hello world!'\n",
    "print(message_2,\"\\n\")\n",
    "\n",
    "print(\"symbols frequencies:\")\n",
    "symbl_freq_2=generate_symbol_frequency(message_2)\n",
    "print(symbl_freq_2,\"\\n\")\n",
    "\n",
    "print(\"Huffman codewords:\")\n",
    "encoded_message_2, codewords_2=huffman_encoder(message_2,verbose=True)\n",
    "\n",
    "print(\"\\nencoded string:\")\n",
    "print(encoded_message_2)"
   ]
  },
  {
   "cell_type": "markdown",
   "metadata": {},
   "source": [
    "## Decoder test:\n",
    "Now our final test is try to decode the encoded message: "
   ]
  },
  {
   "cell_type": "code",
   "execution_count": 26,
   "metadata": {},
   "outputs": [
    {
     "name": "stdout",
     "output_type": "stream",
     "text": [
      "\n",
      "encoded string:\n",
      "1011000010111100100101100110100000001 \n",
      "\n",
      "decoded string:\n",
      "hello world!\n"
     ]
    }
   ],
   "source": [
    "print(\"\\nencoded string:\")\n",
    "print(encoded_message_2,\"\\n\")\n",
    "\n",
    "decoded_message_2=huffman_decoder(encoded_message_2,codewords_2)\n",
    "print(\"decoded string:\")\n",
    "print(decoded_message_2)"
   ]
  },
  {
   "cell_type": "markdown",
   "metadata": {},
   "source": [
    "## Final test: encode the incipit of Dante's Inferno"
   ]
  },
  {
   "cell_type": "code",
   "execution_count": 27,
   "metadata": {},
   "outputs": [
    {
     "name": "stdout",
     "output_type": "stream",
     "text": [
      "Nel mezzo del cammin di nostra vita \n",
      "mi ritrovai per una selva oscura, \n",
      "ché la diritta via era smarrita.\n"
     ]
    }
   ],
   "source": [
    "inferno = 'Nel mezzo del cammin di nostra vita \\nmi ritrovai per una selva oscura, \\nché la diritta via era smarrita.'\n",
    "print(inferno)\n"
   ]
  },
  {
   "cell_type": "code",
   "execution_count": 28,
   "metadata": {},
   "outputs": [
    {
     "data": {
      "text/plain": [
       "{'N': '0010010',\n",
       " 'e': '1000',\n",
       " 'l': '01000',\n",
       " ' ': '000',\n",
       " 'm': '1011',\n",
       " 'z': '010100',\n",
       " 'o': '01001',\n",
       " 'd': '01011',\n",
       " 'c': '10100',\n",
       " 'a': '011',\n",
       " 'i': '110',\n",
       " 'n': '10101',\n",
       " 's': '00110',\n",
       " 't': '1001',\n",
       " 'r': '111',\n",
       " 'v': '00111',\n",
       " '\\n': '010101',\n",
       " 'p': '0010011',\n",
       " 'u': '001010',\n",
       " ',': '0010000',\n",
       " 'h': '0010001',\n",
       " 'é': '0010110',\n",
       " '.': '0010111'}"
      ]
     },
     "execution_count": 28,
     "metadata": {},
     "output_type": "execute_result"
    }
   ],
   "source": [
    "encoded_inferno, inferno_codewords = huffman_encoder([inferno])\n",
    "inferno_codewords"
   ]
  },
  {
   "cell_type": "code",
   "execution_count": 29,
   "metadata": {},
   "outputs": [
    {
     "data": {
      "text/plain": [
       "'0010010100001000000101110000101000101000100100001011100001000000101000111011101111010101000010111100001010101001001101001111011000001111101001011000010101101111000011111010011110100100111011110000001001110001110000010101010101100000110100001000001110110000100100110101000010101110110010000000010101101000010001001011000001000011000010111101111101001100101100000111110011000100011101100000110101101111111111010010110010111'"
      ]
     },
     "execution_count": 29,
     "metadata": {},
     "output_type": "execute_result"
    }
   ],
   "source": [
    "encoded_inferno"
   ]
  },
  {
   "cell_type": "code",
   "execution_count": 30,
   "metadata": {},
   "outputs": [
    {
     "name": "stdout",
     "output_type": "stream",
     "text": [
      "Nel mezzo del cammin di nostra vita \n",
      "mi ritrovai per una selva oscura, \n",
      "ché la diritta via era smarrita.\n"
     ]
    }
   ],
   "source": [
    "decoded_inferno=huffman_decoder(encoded_inferno,inferno_codewords)\n",
    "print(decoded_inferno)"
   ]
  }
 ],
 "metadata": {
  "kernelspec": {
   "display_name": "base",
   "language": "python",
   "name": "python3"
  },
  "language_info": {
   "codemirror_mode": {
    "name": "ipython",
    "version": 3
   },
   "file_extension": ".py",
   "mimetype": "text/x-python",
   "name": "python",
   "nbconvert_exporter": "python",
   "pygments_lexer": "ipython3",
   "version": "3.9.0"
  }
 },
 "nbformat": 4,
 "nbformat_minor": 2
}
