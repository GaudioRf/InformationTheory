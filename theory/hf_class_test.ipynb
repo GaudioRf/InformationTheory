{
 "cells": [
  {
   "cell_type": "code",
   "execution_count": 1,
   "metadata": {},
   "outputs": [],
   "source": [
    "import numpy as np\n",
    "import pandas as pf\n",
    "from HuffmanClass import Huffman\n",
    "\n",
    "hf=Huffman()"
   ]
  },
  {
   "cell_type": "code",
   "execution_count": 2,
   "metadata": {},
   "outputs": [
    {
     "name": "stdout",
     "output_type": "stream",
     "text": [
      "* Huffman codewords:\n",
      "{'d': '1', 'c': '00', 'b': '010', 'a': '011'}\n"
     ]
    }
   ],
   "source": [
    "dict_test={\"a\":0.05,\"b\":0.2,\"c\":0.35,\"d\":0.4}\n",
    "codewords = hf.GenerateCodewords(dict_test)\n",
    "\n",
    "print(\"* Huffman codewords:\")\n",
    "print(codewords)"
   ]
  },
  {
   "cell_type": "code",
   "execution_count": 3,
   "metadata": {},
   "outputs": [
    {
     "name": "stdout",
     "output_type": "stream",
     "text": [
      "* original string:\n",
      "hello world! \n",
      "\n",
      "* Huffman codewords:\n",
      "{'l': '01', 'o': '11', 'h': '101', 'e': '1000', ' ': '1001', 'w': '0010', 'r': '0011', 'd': '0000', '!': '0001'}\n",
      "\n",
      "* encoded string:\n",
      "1011000010111100100101100110100000001\n",
      "\n",
      "* decoded string:\n",
      "hello world!\n"
     ]
    }
   ],
   "source": [
    "print(\"* original string:\")\n",
    "message='hello world!'\n",
    "print(message,\"\\n\")\n",
    "\n",
    "encoded_message, codewords_message=hf.EncodeSring(message)\n",
    "\n",
    "print(\"* Huffman codewords:\")\n",
    "print(codewords_message)\n",
    "\n",
    "print(\"\\n* encoded string:\")\n",
    "print(encoded_message)\n",
    "\n",
    "decoded_message=hf.DecodeString(encoded_message,codewords_message)\n",
    "\n",
    "print(\"\\n* decoded string:\")\n",
    "print(decoded_message)\n"
   ]
  },
  {
   "cell_type": "code",
   "execution_count": 4,
   "metadata": {},
   "outputs": [
    {
     "name": "stdout",
     "output_type": "stream",
     "text": [
      "* original string:\n",
      "Nel mezzo del cammin di nostra vita \n",
      "mi ritrovai per una selva oscura, \n",
      "ché la diritta via era smarrita. \n",
      "\n",
      "* Huffman codewords:\n",
      "{' ': '000', 'a': '011', 'i': '110', 'r': '111', 'e': '1000', 't': '1001', 'm': '1011', 'l': '01000', 'o': '01001', 's': '00110', 'v': '00111', 'd': '01011', 'c': '10100', 'n': '10101', 'z': '010100', '\\n': '010101', 'u': '001010', 'N': '0010010', 'p': '0010011', ',': '0010000', 'h': '0010001', 'é': '0010110', '.': '0010111'}\n",
      "\n",
      "* encoded string:\n",
      "0010010100001000000101110000101000101000100100001011100001000000101000111011101111010101000010111100001010101001001101001111011000001111101001011000010101101111000011111010011110100100111011110000001001110001110000010101010101100000110100001000001110110000100100110101000010101110110010000000010101101000010001001011000001000011000010111101111101001100101100000111110011000100011101100000110101101111111111010010110010111\n",
      "\n",
      "* decoded string:\n",
      "Nel mezzo del cammin di nostra vita \n",
      "mi ritrovai per una selva oscura, \n",
      "ché la diritta via era smarrita.\n"
     ]
    }
   ],
   "source": [
    "print(\"* original string:\")\n",
    "inferno = 'Nel mezzo del cammin di nostra vita \\nmi ritrovai per una selva oscura, \\nché la diritta via era smarrita.'\n",
    "print(inferno,\"\\n\")\n",
    "\n",
    "encoded_inferno, codewords_inferno = hf.EncodeSring(inferno)\n",
    "\n",
    "print(\"* Huffman codewords:\")\n",
    "print(codewords_inferno)\n",
    "\n",
    "print(\"\\n* encoded string:\")\n",
    "print(encoded_inferno)\n",
    "\n",
    "decoded_inferno = hf.DecodeString(encoded_inferno, codewords_inferno)\n",
    "\n",
    "print(\"\\n* decoded string:\")\n",
    "print(decoded_inferno)"
   ]
  },
  {
   "cell_type": "code",
   "execution_count": null,
   "metadata": {},
   "outputs": [],
   "source": []
  }
 ],
 "metadata": {
  "kernelspec": {
   "display_name": "base",
   "language": "python",
   "name": "python3"
  },
  "language_info": {
   "codemirror_mode": {
    "name": "ipython",
    "version": 3
   },
   "file_extension": ".py",
   "mimetype": "text/x-python",
   "name": "python",
   "nbconvert_exporter": "python",
   "pygments_lexer": "ipython3",
   "version": "3.9.13"
  }
 },
 "nbformat": 4,
 "nbformat_minor": 2
}
